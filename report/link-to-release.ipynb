{
 "cells": [
  {
   "cell_type": "markdown",
   "id": "4839494c-69bb-4536-ae69-27d0ea7b361c",
   "metadata": {},
   "source": [
    "#### URL to release"
   ]
  },
  {
   "cell_type": "code",
   "execution_count": null,
   "id": "d4866a59-4c5c-427b-9763-150495bf7de4",
   "metadata": {},
   "outputs": [],
   "source": []
  },
  {
   "cell_type": "markdown",
   "id": "34bb2473-7355-46d4-99db-dc673111c214",
   "metadata": {},
   "source": [
    "#### The following advanced aspect to my app is added\n",
    "- Deploy your dashboard publicly on the web\n",
    "- Add additional inputs/outputs."
   ]
  },
  {
   "cell_type": "code",
   "execution_count": null,
   "id": "f90de5cf-ba93-4130-b728-872e4ea12b15",
   "metadata": {},
   "outputs": [],
   "source": []
  },
  {
   "cell_type": "code",
   "execution_count": null,
   "id": "4fe36703-6434-4f0c-a790-cd708866189a",
   "metadata": {},
   "outputs": [],
   "source": []
  }
 ],
 "metadata": {
  "kernelspec": {
   "display_name": "Python 3 (ipykernel)",
   "language": "python",
   "name": "python3"
  },
  "language_info": {
   "codemirror_mode": {
    "name": "ipython",
    "version": 3
   },
   "file_extension": ".py",
   "mimetype": "text/x-python",
   "name": "python",
   "nbconvert_exporter": "python",
   "pygments_lexer": "ipython3",
   "version": "3.11.6"
  }
 },
 "nbformat": 4,
 "nbformat_minor": 5
}
